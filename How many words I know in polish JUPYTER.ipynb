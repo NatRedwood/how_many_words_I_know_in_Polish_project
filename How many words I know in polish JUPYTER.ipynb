{
 "cells": [
  {
   "cell_type": "code",
   "execution_count": 23,
   "metadata": {},
   "outputs": [
    {
     "name": "stdout",
     "output_type": "stream",
     "text": [
      "How many words I know in polish HW1.ipynb\n",
      "chat1.txt\n",
      "chat2.txt\n",
      "chat3.txt\n",
      "chat4.txt\n",
      "chat5.txt\n",
      "chat6.txt\n",
      "chat7.txt\n",
      "chat_top_1000.txt\n",
      "chatlowercase.txt\n",
      "word-freq-plot.ipynb\n"
     ]
    }
   ],
   "source": [
    "! ls"
   ]
  },
  {
   "cell_type": "code",
   "execution_count": 42,
   "metadata": {},
   "outputs": [
    {
     "name": "stdout",
     "output_type": "stream",
     "text": [
      "[10/8/18, 10:58:31 AM] Rodzina AdamsÃ³w: â€ŽMessages and calls are end-to-end encrypted. No one outside of this chat, not even WhatsApp, can read or listen to them.\n",
      "[10/8/18, 10:58:31 AM] â€ŽGroup creator created this group\n",
      "[10/8/18, 10:58:31 AM] â€ŽYou were added\n",
      "â€Ž[6/4/21, 5:14:53 PM] Nats: â€Žimage omitted\n",
      "[6/5/21, 3:17:29 AM] Tatko: A brat\n",
      "[6/5/21, 3:18:57 AM] Mamcik: Igoreczek gdzieÅ› siÄ™ zagubiÅ‚ðŸ˜�\n",
      "â€Ž[6/5/21, 3:54:06 AM] Igor: â€Žimage omitted\n",
      "[6/5/21, 3:54:12 AM] Igor: My dziecko znaleÅºliÅ›my\n",
      "[6/5/21, 3:54:25 AM] Igor: Nawet tato fotelik siÄ™ do hondy mieÅ›ci\n",
      "[6/5/21, 4:54:29 AM] Tatko: Bo to samochÃ³d dla rodziny wielodzietnej\n"
     ]
    }
   ],
   "source": [
    "#concatenating the chats into one file\n",
    "\n",
    "! cat chat1.txt chat2.txt chat3.txt chat4.txt chat5.txt chat6.txt chat7.txt > chat.txt\n",
    "! cat chat.txt | head"
   ]
  },
  {
   "cell_type": "code",
   "execution_count": 43,
   "metadata": {},
   "outputs": [
    {
     "name": "stdout",
     "output_type": "stream",
     "text": [
      "  3222  35319 251551 chat.txt\n"
     ]
    }
   ],
   "source": [
    "! wc chat.txt"
   ]
  },
  {
   "cell_type": "code",
   "execution_count": 30,
   "metadata": {},
   "outputs": [],
   "source": [
    "#Applying Heaps Law: \n",
    "#10 * (35319 ^ 0.6) = 5350\n",
    "#my working vocabulary - roughly 4000 "
   ]
  },
  {
   "cell_type": "code",
   "execution_count": 31,
   "metadata": {},
   "outputs": [
    {
     "name": "stdout",
     "output_type": "stream",
     "text": [
      "\n",
      "AM\n",
      "Rodzina\n",
      "Adams\n",
      "w\n",
      "Messages\n",
      "and\n",
      "calls\n",
      "are\n",
      "end\n"
     ]
    }
   ],
   "source": [
    "! tr -sc 'A-Za-z' '\\n' < chat.txt | head"
   ]
  },
  {
   "cell_type": "code",
   "execution_count": 32,
   "metadata": {},
   "outputs": [
    {
     "name": "stdout",
     "output_type": "stream",
     "text": [
      "\n",
      "A\n",
      "A\n",
      "A\n",
      "A\n",
      "A\n",
      "A\n",
      "A\n",
      "A\n",
      "A\n"
     ]
    }
   ],
   "source": [
    "! tr -sc 'A-Za-z' '\\n' < chat.txt | sort | head"
   ]
  },
  {
   "cell_type": "code",
   "execution_count": 33,
   "metadata": {},
   "outputs": [
    {
     "name": "stdout",
     "output_type": "stream",
     "text": [
      "\n",
      "A\n",
      "AAAAAAA\n",
      "AAAAAAAAA\n",
      "ADRENALINA\n",
      "AJ\n",
      "ALE\n",
      "AM\n",
      "Aaa\n",
      "Aaaa\n"
     ]
    }
   ],
   "source": [
    "! tr -sc 'A-Za-z' '\\n' < chat.txt | sort| uniq | head"
   ]
  },
  {
   "cell_type": "code",
   "execution_count": 34,
   "metadata": {},
   "outputs": [
    {
     "name": "stdout",
     "output_type": "stream",
     "text": [
      "5993\n"
     ]
    }
   ],
   "source": [
    "! tr -sc 'A-Za-z' '\\n' < chat.txt | sort| uniq | wc -l"
   ]
  },
  {
   "cell_type": "code",
   "execution_count": 35,
   "metadata": {},
   "outputs": [],
   "source": [
    "#Not far from the estimated 5350 form Heaps Law\n",
    "#Lowercase and uppercase"
   ]
  },
  {
   "cell_type": "code",
   "execution_count": 37,
   "metadata": {},
   "outputs": [
    {
     "name": "stdout",
     "output_type": "stream",
     "text": [
      "5270\n"
     ]
    }
   ],
   "source": [
    "! tr 'A-Z' 'a-z' < chat.txt > chatlowercase.txt\n",
    "! tr -sc 'a-z' '\\n' < chatlowercase.txt | sort| uniq | wc -l"
   ]
  },
  {
   "cell_type": "code",
   "execution_count": 39,
   "metadata": {},
   "outputs": [
    {
     "name": "stdout",
     "output_type": "stream",
     "text": [
      "      1 \n",
      "    502 a\n",
      "      1 aa\n",
      "      9 aaa\n",
      "      7 aaaa\n",
      "      1 aaaaaaa\n",
      "      1 aaaaaaaaa\n",
      "      1 abd\n",
      "      1 abie\n",
      "      1 able\n"
     ]
    }
   ],
   "source": [
    "! tr -sc 'a-z' '\\n' < chatlowercase.txt | sort | uniq -c | head"
   ]
  },
  {
   "cell_type": "code",
   "execution_count": 40,
   "metadata": {},
   "outputs": [
    {
     "name": "stdout",
     "output_type": "stream",
     "text": [
      "   2165 am\n",
      "   1191 pm\n",
      "   1101 nats\n",
      "    859 igor\n",
      "    601 omitted\n",
      "    571 to\n",
      "    567 w\n",
      "    562 i\n",
      "    551 mamcik\n",
      "    548 na\n"
     ]
    }
   ],
   "source": [
    "! tr -sc 'a-z' '\\n' < chatlowercase.txt | sort | uniq -c | sort -rn | head"
   ]
  },
  {
   "cell_type": "code",
   "execution_count": 1,
   "metadata": {},
   "outputs": [],
   "source": [
    "! tr -sc 'a-z' '\\n' < chatlowercase.txt | sort | uniq -c | sort -rn | head -n 1000 > chat-top-1000.txt"
   ]
  }
 ],
 "metadata": {
  "interpreter": {
   "hash": "5c73f75a2ef77f8e9ffdbc0219acc830e609de26b20d7fa9fa789ca3d468b125"
  },
  "kernelspec": {
   "display_name": "Python 3.8.5 32-bit",
   "name": "python3"
  },
  "language_info": {
   "codemirror_mode": {
    "name": "ipython",
    "version": 3
   },
   "file_extension": ".py",
   "mimetype": "text/x-python",
   "name": "python",
   "nbconvert_exporter": "python",
   "pygments_lexer": "ipython3",
   "version": "3.8.5"
  }
 },
 "nbformat": 4,
 "nbformat_minor": 4
}
